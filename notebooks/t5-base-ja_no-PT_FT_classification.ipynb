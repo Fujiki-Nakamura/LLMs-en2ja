{
 "cells": [
  {
   "cell_type": "code",
   "execution_count": 1,
   "id": "3ad4c5fb",
   "metadata": {
    "scrolled": true
   },
   "outputs": [
    {
     "name": "stdout",
     "output_type": "stream",
     "text": [
      "[2022-05-09 13:31:56,165] [WARNING] [partition_parameters.py:53:<module>] unable to find torch.distributed._all_gather_base. will fall back to torch.distributed.all_gather which will result in suboptimal performance. please consider upgrading your pytorch installation.\n"
     ]
    }
   ],
   "source": [
    "import argparse\n",
    "from datetime import datetime\n",
    "from __future__ import unicode_literals\n",
    "import logging\n",
    "import os\n",
    "import random\n",
    "import re\n",
    "import tarfile\n",
    "import unicodedata\n",
    "\n",
    "import pytorch_lightning as PL\n",
    "import sentencepiece\n",
    "import torch\n",
    "from torch.utils.data import Dataset, DataLoader\n",
    "import transformers as T\n",
    "from tqdm import tqdm\n",
    "\n",
    "logger = logging.getLogger(__name__)\n",
    "\n",
    "def report(message):\n",
    "    print(message)\n",
    "    \n",
    "os.environ['CUDA_VISIBLE_DEVICES'] = \"0\""
   ]
  },
  {
   "cell_type": "code",
   "execution_count": 2,
   "id": "88b4a128",
   "metadata": {},
   "outputs": [
    {
     "name": "stderr",
     "output_type": "stream",
     "text": [
      "Global seed set to 42\n"
     ]
    },
    {
     "data": {
      "text/plain": [
       "42"
      ]
     },
     "execution_count": 2,
     "metadata": {},
     "output_type": "execute_result"
    }
   ],
   "source": [
    "class args:\n",
    "    # model\n",
    "    # model_name_or_path = \"fnakamura/t5-base-en2ja\"\n",
    "    model_name_or_path = None\n",
    "    tokenizer_name_or_path = \"fnakamura/t5-base-en2ja\"\n",
    "    max_input_length = 512\n",
    "    max_target_length = 4\n",
    "    train_batch_size = 8\n",
    "    eval_batch_size = 8\n",
    "    num_train_epochs = 4\n",
    "\n",
    "    # data\n",
    "    data_dir = \"../inputs\"\n",
    "    data_file = \"../inputs/ldcc-20140209.tar.gz\"\n",
    "    \n",
    "    # training\n",
    "    learning_rate = 3e-4\n",
    "    weight_decay = 0.\n",
    "    adam_epsilon = 1e-8\n",
    "    warmup_steps = 0\n",
    "    gradient_accumulation_steps = 1\n",
    "    \n",
    "    num_gpus = 1\n",
    "    early_stopping_callback = False\n",
    "    fp_16 = False\n",
    "    opt_level = 'O1'\n",
    "    max_grad_norm = 1.0\n",
    "    \n",
    "    # experiments\n",
    "    datetime_id = datetime.now().strftime(\"%Y-%m-%d_%H%M%S\")\n",
    "    expid = f\"en2ja_t5-base_classification_{datetime_id}\"\n",
    "    output_dir = f\"../outputs/{expid}\"\n",
    "    random_state = 42\n",
    "    \n",
    "    # HF\n",
    "    cache_dir = os.getenv(\"HF_CACHE_DIR\")\n",
    "\n",
    "PL.seed_everything(args.random_state)"
   ]
  },
  {
   "cell_type": "code",
   "execution_count": 3,
   "id": "2f9759d3",
   "metadata": {},
   "outputs": [
    {
     "name": "stdout",
     "output_type": "stream",
     "text": [
      "Output dir created: ../outputs/en2ja_t5-base_classification_2022-05-09_133156\n"
     ]
    }
   ],
   "source": [
    "if os.path.exists(args.output_dir):\n",
    "    report(f\"Output dir exists: {args.output_dir}\")\n",
    "else:\n",
    "    os.makedirs(args.output_dir)\n",
    "    report(f\"Output dir created: {args.output_dir}\")"
   ]
  },
  {
   "cell_type": "code",
   "execution_count": 4,
   "id": "7504a590",
   "metadata": {},
   "outputs": [],
   "source": [
    "def unicode_normalize(cls, s):\n",
    "    pt = re.compile('([{}]+)'.format(cls))\n",
    "\n",
    "    def norm(c):\n",
    "        return unicodedata.normalize('NFKC', c) if pt.match(c) else c\n",
    "\n",
    "    s = ''.join(norm(x) for x in re.split(pt, s))\n",
    "    s = re.sub('－', '-', s)\n",
    "    return s\n",
    "\n",
    "def remove_extra_spaces(s):\n",
    "    s = re.sub('[ 　]+', ' ', s)\n",
    "    blocks = ''.join(('\\u4E00-\\u9FFF',  # CJK UNIFIED IDEOGRAPHS\n",
    "                      '\\u3040-\\u309F',  # HIRAGANA\n",
    "                      '\\u30A0-\\u30FF',  # KATAKANA\n",
    "                      '\\u3000-\\u303F',  # CJK SYMBOLS AND PUNCTUATION\n",
    "                      '\\uFF00-\\uFFEF'   # HALFWIDTH AND FULLWIDTH FORMS\n",
    "                      ))\n",
    "    basic_latin = '\\u0000-\\u007F'\n",
    "\n",
    "    def remove_space_between(cls1, cls2, s):\n",
    "        p = re.compile('([{}]) ([{}])'.format(cls1, cls2))\n",
    "        while p.search(s):\n",
    "            s = p.sub(r'\\1\\2', s)\n",
    "        return s\n",
    "\n",
    "    s = remove_space_between(blocks, blocks, s)\n",
    "    s = remove_space_between(blocks, basic_latin, s)\n",
    "    s = remove_space_between(basic_latin, blocks, s)\n",
    "    return s\n",
    "\n",
    "def normalize_neologd(s):\n",
    "    s = s.strip()\n",
    "    s = unicode_normalize('０-９Ａ-Ｚａ-ｚ｡-ﾟ', s)\n",
    "\n",
    "    def maketrans(f, t):\n",
    "        return {ord(x): ord(y) for x, y in zip(f, t)}\n",
    "\n",
    "    s = re.sub('[˗֊‐‑‒–⁃⁻₋−]+', '-', s)  # normalize hyphens\n",
    "    s = re.sub('[﹣－ｰ—―─━ー]+', 'ー', s)  # normalize choonpus\n",
    "    s = re.sub('[~∼∾〜〰～]+', '〜', s)  # normalize tildes (modified by Isao Sonobe)\n",
    "    s = s.translate(\n",
    "        maketrans('!\"#$%&\\'()*+,-./:;<=>?@[¥]^_`{|}~｡､･｢｣',\n",
    "              '！”＃＄％＆’（）＊＋，－．／：；＜＝＞？＠［￥］＾＿｀｛｜｝〜。、・「」'))\n",
    "\n",
    "    s = remove_extra_spaces(s)\n",
    "    s = unicode_normalize('！”＃＄％＆’（）＊＋，－．／：；＜＞？＠［￥］＾＿｀｛｜｝〜', s)  # keep ＝,・,「,」\n",
    "    s = re.sub('[’]', '\\'', s)\n",
    "    s = re.sub('[”]', '\"', s)\n",
    "    return s\n",
    "    "
   ]
  },
  {
   "cell_type": "code",
   "execution_count": 5,
   "id": "aad039f6",
   "metadata": {},
   "outputs": [],
   "source": [
    "target_genres = [\n",
    "    \"dokujo-tsushin\",\n",
    "     \"it-life-hack\",\n",
    "     \"kaden-channel\",\n",
    "     \"livedoor-homme\",\n",
    "     \"movie-enter\",\n",
    "     \"peachy\",\n",
    "     \"smax\",\n",
    "     \"sports-watch\",\n",
    "     \"topic-news\"\n",
    "]\n",
    "\n",
    "def remove_brackets(text):\n",
    "    text = re.sub(r\"(^【[^】]*】)|(【[^】]*】$)\", \"\", text)\n",
    "    return text\n",
    "\n",
    "def normalize_text(text):\n",
    "    assert \"\\n\" not in text and \"\\r\" not in text\n",
    "    text = text.replace(\"\\t\", \" \")\n",
    "    text = text.strip()\n",
    "    text = normalize_neologd(text)\n",
    "    text = text.lower()\n",
    "    return text\n",
    "\n",
    "def read_title_body(file):\n",
    "    next(file)\n",
    "    next(file)\n",
    "    title = next(file).decode(\"utf-8\").strip()\n",
    "    title = normalize_text(remove_brackets(title))\n",
    "    body = normalize_text(\" \".join([line.decode(\"utf-8\").strip() for line in file.readlines()]))\n",
    "    return title, body\n",
    "\n",
    "genre_files_list = [[] for genre in target_genres]\n",
    "\n",
    "all_data = []\n",
    "\n",
    "with tarfile.open(args.data_file) as archive_file:\n",
    "    for archive_item in archive_file:\n",
    "        for i, genre in enumerate(target_genres):\n",
    "            if genre in archive_item.name and archive_item.name.endswith(\".txt\"):\n",
    "                genre_files_list[i].append(archive_item.name)\n",
    "\n",
    "    for i, genre_files in enumerate(genre_files_list):\n",
    "        for name in genre_files:\n",
    "            file = archive_file.extractfile(name)\n",
    "            title, body = read_title_body(file)\n",
    "            title = normalize_text(title)\n",
    "            body = normalize_text(body)\n",
    "\n",
    "            if len(title) > 0 and len(body) > 0:\n",
    "                all_data.append({\n",
    "                    \"title\": title,\n",
    "                    \"body\": body,\n",
    "                    \"genre_id\": i\n",
    "                    })"
   ]
  },
  {
   "cell_type": "code",
   "execution_count": 6,
   "id": "97d27863",
   "metadata": {},
   "outputs": [
    {
     "name": "stderr",
     "output_type": "stream",
     "text": [
      "7334it [00:00, 64440.43it/s]\n"
     ]
    }
   ],
   "source": [
    "random.seed(1234)\n",
    "random.shuffle(all_data)\n",
    "\n",
    "def to_line(data):\n",
    "    title = data[\"title\"]\n",
    "    body = data[\"body\"]\n",
    "    genre_id = data[\"genre_id\"]\n",
    "\n",
    "    assert len(title) > 0 and len(body) > 0\n",
    "    return f\"{title}\\t{body}\\t{genre_id}\\n\"\n",
    "\n",
    "data_size = len(all_data)\n",
    "train_ratio, dev_ratio, test_ratio = 0.7, 0.15, 0.15\n",
    "\n",
    "with open(f\"../inputs/train.tsv\", \"w\", encoding=\"utf-8\") as f_train, \\\n",
    "    open(f\"../inputs/dev.tsv\", \"w\", encoding=\"utf-8\") as f_dev, \\\n",
    "    open(f\"../inputs/test.tsv\", \"w\", encoding=\"utf-8\") as f_test:\n",
    "    \n",
    "    for i, data in tqdm(enumerate(all_data)):\n",
    "        line = to_line(data)\n",
    "        if i < train_ratio * data_size:\n",
    "            f_train.write(line)\n",
    "        elif i < (train_ratio + dev_ratio) * data_size:\n",
    "            f_dev.write(line)\n",
    "        else:\n",
    "            f_test.write(line)"
   ]
  },
  {
   "cell_type": "code",
   "execution_count": 7,
   "id": "e927f6a1",
   "metadata": {},
   "outputs": [],
   "source": [
    "# !head -1 ../inputs/test.tsv"
   ]
  },
  {
   "cell_type": "code",
   "execution_count": 8,
   "id": "a78199ec",
   "metadata": {},
   "outputs": [],
   "source": [
    "class TsvDataset(Dataset):\n",
    "    def __init__(self, tokenizer, data_dir, type_path, input_max_len=512, target_max_len=512):\n",
    "        self.file_path = os.path.join(data_dir, type_path)\n",
    "        \n",
    "        self.input_max_len = input_max_len\n",
    "        self.target_max_len = target_max_len\n",
    "        self.tokenizer = tokenizer\n",
    "        self.inputs = []\n",
    "        self.targets = []\n",
    "\n",
    "        self._build()\n",
    "  \n",
    "    def __len__(self):\n",
    "        return len(self.inputs)\n",
    "  \n",
    "    def __getitem__(self, index):\n",
    "        source_ids = self.inputs[index][\"input_ids\"].squeeze()\n",
    "        target_ids = self.targets[index][\"input_ids\"].squeeze()\n",
    "\n",
    "        source_mask = self.inputs[index][\"attention_mask\"].squeeze()\n",
    "        target_mask = self.targets[index][\"attention_mask\"].squeeze()\n",
    "\n",
    "        return {\n",
    "            \"source_ids\": source_ids, \"source_mask\": source_mask, \n",
    "            \"target_ids\": target_ids, \"target_mask\": target_mask\n",
    "        }\n",
    "\n",
    "    def _make_record(self, title, body, genre_id):\n",
    "        # ニュース分類タスク用の入出力形式に変換する。\n",
    "        input = f\"{title} {body}\"\n",
    "        target = f\"{genre_id}\"\n",
    "        return input, target\n",
    "  \n",
    "    def _build(self):\n",
    "        with open(self.file_path, \"r\", encoding=\"utf-8\") as f:\n",
    "            for line in f:\n",
    "                line = line.strip().split(\"\\t\")\n",
    "                assert len(line) == 3\n",
    "                assert len(line[0]) > 0\n",
    "                assert len(line[1]) > 0\n",
    "                assert len(line[2]) > 0\n",
    "\n",
    "                title = line[0]\n",
    "                body = line[1]\n",
    "                genre_id = line[2]\n",
    "\n",
    "                input, target = self._make_record(title, body, genre_id)\n",
    "\n",
    "                tokenized_inputs = self.tokenizer.batch_encode_plus(\n",
    "                    [input], max_length=self.input_max_len, truncation=True, \n",
    "                    padding=\"max_length\", return_tensors=\"pt\"\n",
    "                )\n",
    "\n",
    "                tokenized_targets = self.tokenizer.batch_encode_plus(\n",
    "                    [target], max_length=self.target_max_len, truncation=True, \n",
    "                    padding=\"max_length\", return_tensors=\"pt\"\n",
    "                )\n",
    "\n",
    "                self.inputs.append(tokenized_inputs)\n",
    "                self.targets.append(tokenized_targets)"
   ]
  },
  {
   "cell_type": "code",
   "execution_count": 9,
   "id": "efe93c43",
   "metadata": {},
   "outputs": [],
   "source": [
    "tokenizer = T.T5Tokenizer.from_pretrained(args.tokenizer_name_or_path, cache_dir=args.cache_dir)"
   ]
  },
  {
   "cell_type": "code",
   "execution_count": 10,
   "id": "8c5b14f4",
   "metadata": {},
   "outputs": [],
   "source": [
    "train_dataset = TsvDataset(\n",
    "    tokenizer, args.data_dir, \"train.tsv\",  input_max_len=512, target_max_len=4)"
   ]
  },
  {
   "cell_type": "code",
   "execution_count": 11,
   "id": "f18925ee",
   "metadata": {},
   "outputs": [
    {
     "data": {
      "text/plain": [
       "'\\nfor data in train_dataset:\\n    print(\"A. 入力データの元になる文字列\")\\n    print(tokenizer.decode(data[\"source_ids\"]))\\n    print()\\n    print(\"B. 入力データ（Aの文字列がトークナイズされたトークンID列）\")\\n    print(data[\"source_ids\"])\\n    print()\\n    print(\"C. 出力データの元になる文字列\")\\n    print(tokenizer.decode(data[\"target_ids\"]))\\n    print()\\n    print(\"D. 出力データ（Cの文字列がトークナイズされたトークンID列）\")\\n    print(data[\"target_ids\"])\\n    break\\n'"
      ]
     },
     "execution_count": 11,
     "metadata": {},
     "output_type": "execute_result"
    }
   ],
   "source": [
    "'''\n",
    "for data in train_dataset:\n",
    "    print(\"A. 入力データの元になる文字列\")\n",
    "    print(tokenizer.decode(data[\"source_ids\"]))\n",
    "    print()\n",
    "    print(\"B. 入力データ（Aの文字列がトークナイズされたトークンID列）\")\n",
    "    print(data[\"source_ids\"])\n",
    "    print()\n",
    "    print(\"C. 出力データの元になる文字列\")\n",
    "    print(tokenizer.decode(data[\"target_ids\"]))\n",
    "    print()\n",
    "    print(\"D. 出力データ（Cの文字列がトークナイズされたトークンID列）\")\n",
    "    print(data[\"target_ids\"])\n",
    "    break\n",
    "'''"
   ]
  },
  {
   "cell_type": "code",
   "execution_count": 12,
   "id": "16755e93",
   "metadata": {},
   "outputs": [],
   "source": [
    "class T5FineTuner(PL.LightningModule):\n",
    "    def __init__(self, hparams):\n",
    "        super().__init__()\n",
    "        # self.hparams = hparams\n",
    "        # self.hparams.update(hparams)\n",
    "        self.save_hyperparameters(hparams)\n",
    "\n",
    "        # 事前学習済みモデルの読み込み\n",
    "        if hparams.model_name_or_path is None:\n",
    "            self.config = T.T5Config.from_pretrained(hparams.tokenizer_name_or_path, vocab_size=32100)\n",
    "            self.model = T.T5ForConditionalGeneration(config=self.config)\n",
    "        else:\n",
    "            self.config = T.T5Config.from_pretrained(hparams.model_name_or_path, vocab_size=32100)\n",
    "            self.model = T.T5ForConditionalGeneration.from_pretrained(hparams.model_name_or_path, config=self.config)\n",
    "            report(f\"From pretrained: {hparams.model_name_or_path}\")\n",
    "\n",
    "        # トークナイザーの読み込み\n",
    "        self.tokenizer = T.T5Tokenizer.from_pretrained(hparams.tokenizer_name_or_path, is_fast=True, config=self.config)\n",
    "\n",
    "    def forward(\n",
    "        self, input_ids, attention_mask=None, decoder_input_ids=None, decoder_attention_mask=None, labels=None):\n",
    "        \"\"\"順伝搬\"\"\"\n",
    "        return self.model(\n",
    "            input_ids,\n",
    "            attention_mask=attention_mask,\n",
    "            decoder_input_ids=decoder_input_ids,\n",
    "            decoder_attention_mask=decoder_attention_mask,\n",
    "            labels=labels\n",
    "        )\n",
    "\n",
    "    def _step(self, batch):\n",
    "        \"\"\"ロス計算\"\"\"\n",
    "        labels = batch[\"target_ids\"]\n",
    "\n",
    "        # All labels set to -100 are ignored (masked), \n",
    "        # the loss is only computed for labels in [0, ..., config.vocab_size]\n",
    "        labels[labels[:, :] == self.tokenizer.pad_token_id] = -100\n",
    "\n",
    "        outputs = self(\n",
    "            input_ids=batch[\"source_ids\"],\n",
    "            attention_mask=batch[\"source_mask\"],\n",
    "            decoder_attention_mask=batch['target_mask'],\n",
    "            labels=labels\n",
    "        )\n",
    "\n",
    "        loss = outputs[0]\n",
    "        return loss\n",
    "\n",
    "    def training_step(self, batch, batch_idx):\n",
    "        \"\"\"訓練ステップ処理\"\"\"\n",
    "        loss = self._step(batch)\n",
    "        self.log(\"train_loss\", loss)\n",
    "        return {\"loss\": loss}\n",
    "\n",
    "    def validation_step(self, batch, batch_idx):\n",
    "        \"\"\"バリデーションステップ処理\"\"\"\n",
    "        loss = self._step(batch)\n",
    "        self.log(\"val_loss\", loss)\n",
    "        return {\"val_loss\": loss}\n",
    "\n",
    "    # def validation_epoch_end(self, outputs):\n",
    "    #     \"\"\"バリデーション完了処理\"\"\"\n",
    "    #     avg_loss = torch.stack([x[\"val_loss\"] for x in outputs]).mean()\n",
    "    #     self.log(\"val_loss\", avg_loss, prog_bar=True)\n",
    "\n",
    "    def test_step(self, batch, batch_idx):\n",
    "        \"\"\"テストステップ処理\"\"\"\n",
    "        loss = self._step(batch)\n",
    "        self.log(\"test_loss\", loss)\n",
    "        return {\"test_loss\": loss}\n",
    "\n",
    "    # def test_epoch_end(self, outputs):\n",
    "    #     \"\"\"テスト完了処理\"\"\"\n",
    "    #     avg_loss = torch.stack([x[\"test_loss\"] for x in outputs]).mean()\n",
    "    #     self.log(\"test_loss\", avg_loss, prog_bar=True)\n",
    "\n",
    "    def configure_optimizers(self):\n",
    "        \"\"\"オプティマイザーとスケジューラーを作成する\"\"\"\n",
    "        model = self.model\n",
    "        no_decay = [\"bias\", \"LayerNorm.weight\"]\n",
    "        optimizer_grouped_parameters = [\n",
    "            {\n",
    "                \"params\": [p for n, p in model.named_parameters() \n",
    "                            if not any(nd in n for nd in no_decay)],\n",
    "                \"weight_decay\": self.hparams.weight_decay,\n",
    "            },\n",
    "            {\n",
    "                \"params\": [p for n, p in model.named_parameters() \n",
    "                            if any(nd in n for nd in no_decay)],\n",
    "                \"weight_decay\": 0.0,\n",
    "            },\n",
    "        ]\n",
    "        optimizer = T.AdamW(optimizer_grouped_parameters, \n",
    "                          lr=self.hparams.learning_rate, \n",
    "                          eps=self.hparams.adam_epsilon)\n",
    "\n",
    "        scheduler = T.get_linear_schedule_with_warmup(\n",
    "            optimizer, num_warmup_steps=self.hparams.warmup_steps, \n",
    "            num_training_steps=self.t_total\n",
    "        )\n",
    "\n",
    "        return [optimizer], [{\"scheduler\": scheduler, \"interval\": \"step\", \"frequency\": 1}]\n",
    "\n",
    "    def get_dataset(self, tokenizer, type_path, args):\n",
    "        \"\"\"データセットを作成する\"\"\"\n",
    "        return TsvDataset(\n",
    "            tokenizer=tokenizer, \n",
    "            data_dir=args.data_dir, \n",
    "            type_path=type_path, \n",
    "            input_max_len=args.max_input_length,\n",
    "            target_max_len=args.max_target_length)\n",
    "    \n",
    "    def setup(self, stage=None):\n",
    "        \"\"\"初期設定（データセットの読み込み）\"\"\"\n",
    "        if stage == 'fit' or stage is None:\n",
    "            train_dataset = self.get_dataset(tokenizer=self.tokenizer, type_path=\"train.tsv\", args=self.hparams)\n",
    "            self.train_dataset = train_dataset\n",
    "\n",
    "            val_dataset = self.get_dataset(tokenizer=self.tokenizer, type_path=\"dev.tsv\", args=self.hparams)\n",
    "            self.val_dataset = val_dataset\n",
    "\n",
    "            self.t_total = (\n",
    "                (len(train_dataset) // (self.hparams.train_batch_size * max(1, self.hparams.num_gpus)))\n",
    "                // self.hparams.gradient_accumulation_steps\n",
    "                * float(self.hparams.num_train_epochs)\n",
    "            )\n",
    "\n",
    "    def train_dataloader(self):\n",
    "        \"\"\"訓練データローダーを作成する\"\"\"\n",
    "        return DataLoader(\n",
    "            self.train_dataset,  batch_size=self.hparams.train_batch_size, drop_last=True, shuffle=True, num_workers=4)\n",
    "\n",
    "    def val_dataloader(self):\n",
    "        \"\"\"バリデーションデータローダーを作成する\"\"\"\n",
    "        return DataLoader(\n",
    "            self.val_dataset, batch_size=self.hparams.eval_batch_size, num_workers=4)"
   ]
  },
  {
   "cell_type": "code",
   "execution_count": 13,
   "id": "11498f17",
   "metadata": {},
   "outputs": [],
   "source": [
    "args_dict = {k: v for k, v in args.__dict__.items() if not k.startswith(\"__\")}"
   ]
  },
  {
   "cell_type": "code",
   "execution_count": 14,
   "id": "199797eb",
   "metadata": {},
   "outputs": [],
   "source": [
    "_args = argparse.Namespace(**args_dict)"
   ]
  },
  {
   "cell_type": "code",
   "execution_count": 15,
   "id": "620681bc",
   "metadata": {
    "scrolled": false
   },
   "outputs": [],
   "source": [
    "model = T5FineTuner(_args)"
   ]
  },
  {
   "cell_type": "code",
   "execution_count": 16,
   "id": "3ec2119a",
   "metadata": {},
   "outputs": [
    {
     "name": "stderr",
     "output_type": "stream",
     "text": [
      "GPU available: True, used: True\n",
      "TPU available: None, using: 0 TPU cores\n",
      "/opt/conda/lib/python3.8/site-packages/transformers/optimization.py:306: FutureWarning: This implementation of AdamW is deprecated and will be removed in a future version. Use the PyTorch implementation torch.optim.AdamW instead, or set `no_deprecation_warning=True` to disable this warning\n",
      "  warnings.warn(\n",
      "\n",
      "  | Name  | Type                       | Params\n",
      "-----------------------------------------------------\n",
      "0 | model | T5ForConditionalGeneration | 222 M \n",
      "-----------------------------------------------------\n",
      "222 M     Trainable params\n",
      "0         Non-trainable params\n",
      "222 M     Total params\n",
      "891.528   Total estimated model params size (MB)\n"
     ]
    },
    {
     "data": {
      "application/vnd.jupyter.widget-view+json": {
       "model_id": "",
       "version_major": 2,
       "version_minor": 0
      },
      "text/plain": [
       "Validation sanity check: 0it [00:00, ?it/s]"
      ]
     },
     "metadata": {},
     "output_type": "display_data"
    },
    {
     "data": {
      "application/vnd.jupyter.widget-view+json": {
       "model_id": "6ae73c6d1716492e9c22ae41396add7c",
       "version_major": 2,
       "version_minor": 0
      },
      "text/plain": [
       "Training: 0it [00:00, ?it/s]"
      ]
     },
     "metadata": {},
     "output_type": "display_data"
    },
    {
     "data": {
      "application/vnd.jupyter.widget-view+json": {
       "model_id": "",
       "version_major": 2,
       "version_minor": 0
      },
      "text/plain": [
       "Validating: 0it [00:00, ?it/s]"
      ]
     },
     "metadata": {},
     "output_type": "display_data"
    },
    {
     "name": "stderr",
     "output_type": "stream",
     "text": [
      "/opt/conda/lib/python3.8/site-packages/torch/optim/lr_scheduler.py:216: UserWarning: Please also save or load the state of the optimizer when saving or loading the scheduler.\n",
      "  warnings.warn(SAVE_STATE_WARNING, UserWarning)\n"
     ]
    },
    {
     "data": {
      "application/vnd.jupyter.widget-view+json": {
       "model_id": "",
       "version_major": 2,
       "version_minor": 0
      },
      "text/plain": [
       "Validating: 0it [00:00, ?it/s]"
      ]
     },
     "metadata": {},
     "output_type": "display_data"
    },
    {
     "data": {
      "application/vnd.jupyter.widget-view+json": {
       "model_id": "",
       "version_major": 2,
       "version_minor": 0
      },
      "text/plain": [
       "Validating: 0it [00:00, ?it/s]"
      ]
     },
     "metadata": {},
     "output_type": "display_data"
    },
    {
     "data": {
      "application/vnd.jupyter.widget-view+json": {
       "model_id": "",
       "version_major": 2,
       "version_minor": 0
      },
      "text/plain": [
       "Validating: 0it [00:00, ?it/s]"
      ]
     },
     "metadata": {},
     "output_type": "display_data"
    },
    {
     "data": {
      "text/plain": [
       "1"
      ]
     },
     "execution_count": 16,
     "metadata": {},
     "output_type": "execute_result"
    }
   ],
   "source": [
    "# main\n",
    "train_params = dict(\n",
    "    accumulate_grad_batches=args.gradient_accumulation_steps,\n",
    "    gpus=args.num_gpus,\n",
    "    max_epochs=args.num_train_epochs,\n",
    "    precision= 16 if args.fp_16 else 32,\n",
    "    amp_level=args.opt_level,\n",
    "    gradient_clip_val=args.max_grad_norm,\n",
    "    # checkpoint_callback=checkpoint_callback,\n",
    ")\n",
    "trainer = PL.Trainer(**train_params)\n",
    "trainer.fit(model)"
   ]
  },
  {
   "cell_type": "code",
   "execution_count": 17,
   "id": "268c5c74",
   "metadata": {},
   "outputs": [
    {
     "data": {
      "text/plain": [
       "'../outputs/en2ja_t5-base_classification_2022-05-09_133156'"
      ]
     },
     "execution_count": 17,
     "metadata": {},
     "output_type": "execute_result"
    }
   ],
   "source": [
    "args.output_dir"
   ]
  },
  {
   "cell_type": "code",
   "execution_count": 19,
   "id": "37f24f7a",
   "metadata": {},
   "outputs": [],
   "source": [
    "!mv ../outputs/en2ja_t5-base_classification_2022-05-09_133156 ../outputs/t5-base-ja_no-PT_classification_2022-05-09_133156"
   ]
  },
  {
   "cell_type": "code",
   "execution_count": 20,
   "id": "3d46c0b8",
   "metadata": {},
   "outputs": [],
   "source": [
    "args.output_dir = \"../outputs/t5-base-ja_no-PT_classification_2022-05-09_133156\""
   ]
  },
  {
   "cell_type": "code",
   "execution_count": 21,
   "id": "0398dc3d",
   "metadata": {},
   "outputs": [],
   "source": [
    "model.model.save_pretrained(args.output_dir)"
   ]
  },
  {
   "cell_type": "code",
   "execution_count": null,
   "id": "3e609314",
   "metadata": {},
   "outputs": [],
   "source": []
  },
  {
   "cell_type": "code",
   "execution_count": 22,
   "id": "a54783fe",
   "metadata": {},
   "outputs": [],
   "source": [
    "# testing\n",
    "from sklearn import metrics\n",
    "import textwrap\n",
    "from tqdm.auto import tqdm"
   ]
  },
  {
   "cell_type": "code",
   "execution_count": 23,
   "id": "9bfc7c5a",
   "metadata": {},
   "outputs": [],
   "source": [
    "# testing\n",
    "config = T.T5Config.from_pretrained(args.tokenizer_name_or_path, vocab_size=32100)\n",
    "# tokenizer = T.T5Tokenizer.from_pretrained(args.output_dir, is_fast=True, config=config)\n",
    "tokenizer = T.T5Tokenizer.from_pretrained(args.tokenizer_name_or_path, is_fast=True, config=config)\n",
    "trained_model = T.T5ForConditionalGeneration.from_pretrained(args.output_dir, config=config)\n",
    "\n",
    "if torch.cuda.is_available():\n",
    "    trained_model.cuda()"
   ]
  },
  {
   "cell_type": "code",
   "execution_count": 24,
   "id": "c05eb9ff",
   "metadata": {},
   "outputs": [
    {
     "data": {
      "application/vnd.jupyter.widget-view+json": {
       "model_id": "6648559e8416447a9be94871d3fecba9",
       "version_major": 2,
       "version_minor": 0
      },
      "text/plain": [
       "  0%|          | 0/35 [00:00<?, ?it/s]"
      ]
     },
     "metadata": {},
     "output_type": "display_data"
    }
   ],
   "source": [
    "test_dataset = TsvDataset(\n",
    "    tokenizer, args_dict[\"data_dir\"], \"test.tsv\", \n",
    "    input_max_len=args.max_input_length, target_max_len=args.max_target_length)\n",
    "\n",
    "test_loader = DataLoader(test_dataset, batch_size=32, num_workers=4)\n",
    "\n",
    "trained_model.eval()\n",
    "\n",
    "outputs = []\n",
    "confidences = []\n",
    "targets = []\n",
    "\n",
    "for batch in tqdm(test_loader):\n",
    "    input_ids = batch['source_ids']\n",
    "    input_mask = batch['source_mask']\n",
    "    if torch.cuda.is_available():\n",
    "        input_ids = input_ids.cuda()\n",
    "        input_mask = input_mask.cuda()\n",
    "\n",
    "    outs = trained_model.generate(input_ids=input_ids, \n",
    "        attention_mask=input_mask, \n",
    "        max_length=args.max_target_length,\n",
    "        return_dict_in_generate=True,\n",
    "        output_scores=True)\n",
    "\n",
    "    dec = [tokenizer.decode(ids, skip_special_tokens=True, clean_up_tokenization_spaces=False) for ids in outs.sequences]\n",
    "    # conf = [s.cpu().item() for s in torch.exp(outs.sequences_scores)]\n",
    "    target = [tokenizer.decode(ids, skip_special_tokens=True, clean_up_tokenization_spaces=False) for ids in batch[\"target_ids\"]]\n",
    "\n",
    "    outputs.extend(dec)\n",
    "    # confidences.extend(conf)\n",
    "    targets.extend(target)"
   ]
  },
  {
   "cell_type": "code",
   "execution_count": 25,
   "id": "df09b278",
   "metadata": {},
   "outputs": [
    {
     "data": {
      "text/plain": [
       "0.28454545454545455"
      ]
     },
     "execution_count": 25,
     "metadata": {},
     "output_type": "execute_result"
    }
   ],
   "source": [
    "metrics.accuracy_score(targets, outputs)"
   ]
  },
  {
   "cell_type": "code",
   "execution_count": 26,
   "id": "7e0677ff",
   "metadata": {},
   "outputs": [
    {
     "name": "stdout",
     "output_type": "stream",
     "text": [
      "              precision    recall  f1-score   support\n",
      "\n",
      "           0       0.20      0.79      0.32       130\n",
      "           1       0.18      0.50      0.26       121\n",
      "           2       0.61      0.35      0.44       123\n",
      "           3       0.00      0.00      0.00        82\n",
      "           4       0.39      0.12      0.19       129\n",
      "           5       0.00      0.00      0.00       141\n",
      "           6       0.00      0.00      0.00       127\n",
      "           7       0.00      0.00      0.00       127\n",
      "           8       0.66      0.76      0.71       120\n",
      "\n",
      "    accuracy                           0.28      1100\n",
      "   macro avg       0.23      0.28      0.21      1100\n",
      "weighted avg       0.23      0.28      0.22      1100\n",
      "\n"
     ]
    },
    {
     "name": "stderr",
     "output_type": "stream",
     "text": [
      "/opt/conda/lib/python3.8/site-packages/sklearn/metrics/_classification.py:1318: UndefinedMetricWarning: Precision and F-score are ill-defined and being set to 0.0 in labels with no predicted samples. Use `zero_division` parameter to control this behavior.\n",
      "  _warn_prf(average, modifier, msg_start, len(result))\n",
      "/opt/conda/lib/python3.8/site-packages/sklearn/metrics/_classification.py:1318: UndefinedMetricWarning: Precision and F-score are ill-defined and being set to 0.0 in labels with no predicted samples. Use `zero_division` parameter to control this behavior.\n",
      "  _warn_prf(average, modifier, msg_start, len(result))\n",
      "/opt/conda/lib/python3.8/site-packages/sklearn/metrics/_classification.py:1318: UndefinedMetricWarning: Precision and F-score are ill-defined and being set to 0.0 in labels with no predicted samples. Use `zero_division` parameter to control this behavior.\n",
      "  _warn_prf(average, modifier, msg_start, len(result))\n"
     ]
    }
   ],
   "source": [
    "print(metrics.classification_report(targets, outputs))"
   ]
  },
  {
   "cell_type": "code",
   "execution_count": null,
   "id": "384f6906",
   "metadata": {},
   "outputs": [],
   "source": []
  }
 ],
 "metadata": {
  "kernelspec": {
   "display_name": "Python 3 (ipykernel)",
   "language": "python",
   "name": "python3"
  },
  "language_info": {
   "codemirror_mode": {
    "name": "ipython",
    "version": 3
   },
   "file_extension": ".py",
   "mimetype": "text/x-python",
   "name": "python",
   "nbconvert_exporter": "python",
   "pygments_lexer": "ipython3",
   "version": "3.8.3"
  }
 },
 "nbformat": 4,
 "nbformat_minor": 5
}
